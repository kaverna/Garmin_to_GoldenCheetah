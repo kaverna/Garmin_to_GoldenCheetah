{
  "cells": [
    {
      "cell_type": "code",
      "execution_count": null,
      "metadata": {},
      "outputs": [],
      "source": [
        "import datetime\n",
        "\n",
        "## Initialize Garmin api with your credentials\n",
        "email = 'youremail' \n",
        "password = 'yourpassword'\n",
        "\n",
        "## Set start date for the downloading\n",
        "initial = datetime.date(year= 2023, month= 7, day=1)"
      ]
    },
    {
      "cell_type": "code",
      "execution_count": null,
      "metadata": {
        "colab": {
          "base_uri": "https://localhost:8080/"
        },
        "id": "d14AdLuX1ghW",
        "outputId": "9d0de687-805e-47e0-a0ed-a9f3b03e08e4"
      },
      "outputs": [],
      "source": [
        "!pip3 install garminconnect -U"
      ]
    },
    {
      "cell_type": "code",
      "execution_count": null,
      "metadata": {
        "colab": {
          "base_uri": "https://localhost:8080/"
        },
        "id": "NqPyvajK1h_P",
        "outputId": "a1072380-c1c7-4f44-8a41-7c7edcf60023"
      },
      "outputs": [],
      "source": [
        "\n",
        "from garminconnect import (\n",
        "    Garmin,\n",
        "    GarminConnectConnectionError,\n",
        "    GarminConnectTooManyRequestsError,\n",
        "    GarminConnectAuthenticationError,\n",
        ")\n",
        "\n",
        "\n",
        "api = Garmin(email, password)\n",
        "\n",
        "api.login()\n",
        "\n"
      ]
    },
    {
      "cell_type": "code",
      "execution_count": null,
      "metadata": {
        "id": "71UwOv-y5b5P"
      },
      "outputs": [],
      "source": [
        "\n",
        "today = datetime.date.today()\n",
        "elapsed = today - initial\n",
        "\n",
        "\n",
        "bodydata =[]\n",
        "\n",
        "\n",
        "for x in range(0, elapsed.days+1):\n",
        "  if (x%10==0):\n",
        "    print (\"downloaded \",  x, \" of \", elapsed.days, \" days\")\n",
        "  bodydata.append([ initial + datetime.timedelta(days=x) , api.get_stats_and_body(initial + datetime.timedelta(days=x))])"
      ]
    },
    {
      "cell_type": "code",
      "execution_count": null,
      "metadata": {
        "id": "AT3K8w1x8dC1"
      },
      "outputs": [],
      "source": [
        "import pandas as pd\n",
        "\n",
        "\n",
        "bd = pd.DataFrame([ [ bodydata[x][0], bodydata[x][1]['weight'], bodydata[x][1]['bodyFat'], bodydata[x][1]['bodyWater'], bodydata[x][1]['boneMass'], bodydata[x][1]['muscleMass'] ]  for x in range(len(bodydata))])\n",
        "bd = bd.dropna()\n",
        "\n",
        "bd.columns = ['date', 'weightkg', 'fatpercent', 'bodyWater', 'boneskg', 'musclekg' ]\n",
        "\n",
        "bd['date'] = pd.to_datetime(bd['date'])\n",
        "bd['weightkg'] =  bd['weightkg']/1000\n",
        "bd['boneskg'] =  bd['boneskg']/1000\n",
        "bd['musclekg'] =  bd['musclekg']/1000\n",
        "bd['fatkg'] =  (bd['fatpercent'] * bd['weightkg'])/100\n",
        "bd['leankg'] =  bd['weightkg'] - bd['fatkg']\n",
        "\n",
        "display(bd)\n",
        "\n",
        "bd.to_csv('bodydata.csv', date_format='%Y-%d-%m',  float_format='%.1f')\n"
      ]
    },
    {
      "cell_type": "code",
      "execution_count": null,
      "metadata": {
        "colab": {
          "base_uri": "https://localhost:8080/"
        },
        "id": "LDSkFWEIDDvJ",
        "outputId": "b5ea7f08-cb40-4a14-a899-793502625786"
      },
      "outputs": [],
      "source": [
        "hrvdata =[]\n",
        "hr = []\n",
        "\n",
        "for x in range(0, elapsed.days+1):\n",
        "  if (x%10==0):\n",
        "    print (\"downloaded \",  x, \" of \", elapsed.days, \" days\")\n",
        "  try:\n",
        "    hrvdata.append([ initial + datetime.timedelta(days=x) , api.get_hrv_data(initial + datetime.timedelta(days=x))])\n",
        "    l = api.get_heart_rates(initial + datetime.timedelta(days=x))['heartRateValues']\n",
        "    hr.append(pd.DataFrame([pd.to_datetime([ y[0] for y in l ], unit='ms'),  pd.Series( [ y[1] for y in l ] )]).T)\n",
        "  except:\n",
        "    pass # no hrv data\n",
        "\n",
        "hr = pd.concat(hr)\n",
        "\n",
        "display(hr)"
      ]
    },
    {
      "cell_type": "code",
      "execution_count": null,
      "metadata": {},
      "outputs": [],
      "source": [
        "k  =[]\n",
        "for y in range(len(hrvdata)):\n",
        "  k.append(pd.DataFrame([x for x in hrvdata[y][1]['hrvReadings'] ]))\n",
        "\n",
        "k = pd.concat(k)\n",
        "k['readingTimeGMT'] = pd.to_datetime( k['readingTimeGMT'], utc=True)\n",
        "k = k.rename({'hrvValue': 'rMSSD' , 'readingTimeGMT': 'timestamp_measurement' }, axis=1)\n",
        "\n",
        "hrv = k[['rMSSD', 'timestamp_measurement']]\n",
        "hr.columns = ['timestamp_measurement', 'HR']\n",
        "hr['timestamp_measurement'] = pd.to_datetime(hr['timestamp_measurement'], utc=True)\n",
        "\n",
        "hrv_final = pd.merge_asof(hrv.set_index('timestamp_measurement').sort_index(), hr.set_index('timestamp_measurement').sort_index() , left_index=True, right_index=True)\n",
        "hrv_final\n"
      ]
    },
    {
      "cell_type": "code",
      "execution_count": null,
      "metadata": {
        "id": "GrAfoMmnKSvu"
      },
      "outputs": [],
      "source": [
        "hrv_final['HR'] =hrv_final['HR'].astype(float)\n",
        "hrv_final['rMSSD'] =hrv_final['rMSSD'].astype(float)\n",
        "hrv_final.reset_index(drop=False).to_csv('hrv.csv', date_format='%Y-%m-%d %H:%M:%S +0000' , index=False, float_format='%.1f')"
      ]
    }
  ],
  "metadata": {
    "colab": {
      "provenance": []
    },
    "kernelspec": {
      "display_name": "Python 3",
      "name": "python3"
    },
    "language_info": {
      "codemirror_mode": {
        "name": "ipython",
        "version": 3
      },
      "file_extension": ".py",
      "mimetype": "text/x-python",
      "name": "python",
      "nbconvert_exporter": "python",
      "pygments_lexer": "ipython3",
      "version": "3.10.12"
    }
  },
  "nbformat": 4,
  "nbformat_minor": 0
}
